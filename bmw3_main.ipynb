{
 "cells": [
  {
   "cell_type": "code",
   "execution_count": 6,
   "id": "904c139f",
   "metadata": {},
   "outputs": [],
   "source": [
    "import numpy as np\n",
    "import pandas as pd"
   ]
  },
  {
   "cell_type": "code",
   "execution_count": 7,
   "id": "3053c78d",
   "metadata": {},
   "outputs": [],
   "source": [
    "df = pd.read_csv(\"new_data.csv\", encoding=\"utf-8\", sep=r',', skipinitialspace= True )"
   ]
  },
  {
   "cell_type": "code",
   "execution_count": 8,
   "id": "a1ab7d2c",
   "metadata": {},
   "outputs": [],
   "source": [
    "def yakıt_d(x):\n",
    "    if x == \"benzin\":\n",
    "        return float(1)\n",
    "    elif x == \"dizel\":\n",
    "        return float(1)\n",
    "    elif x == \"elektrik\":\n",
    "        return float(1)\n",
    "    try:\n",
    "        return float(1)\n",
    "    except:\n",
    "        return None"
   ]
  },
  {
   "cell_type": "code",
   "execution_count": 9,
   "id": "fd515ee1",
   "metadata": {},
   "outputs": [],
   "source": [
    "bmw_df = df.copy()\n",
    "bmw_df[\"yakıt\"] = bmw_df[\"yakıt\"].apply(yakıt_d)"
   ]
  },
  {
   "cell_type": "code",
   "execution_count": 10,
   "id": "a12e0ca2",
   "metadata": {},
   "outputs": [
    {
     "name": "stdout",
     "output_type": "stream",
     "text": [
      "0     1.0\n",
      "1     1.0\n",
      "2     1.0\n",
      "3     1.0\n",
      "4     1.0\n",
      "5     1.0\n",
      "6     1.0\n",
      "7     1.0\n",
      "8     1.0\n",
      "9     1.0\n",
      "10    1.0\n",
      "11    1.0\n",
      "12    1.0\n",
      "13    1.0\n",
      "14    1.0\n",
      "15    1.0\n",
      "16    1.0\n",
      "17    1.0\n",
      "18    1.0\n",
      "19    1.0\n",
      "20    1.0\n",
      "21    1.0\n",
      "22    1.0\n",
      "23    1.0\n",
      "24    1.0\n",
      "25    1.0\n",
      "26    1.0\n",
      "27    1.0\n",
      "28    1.0\n",
      "29    1.0\n",
      "30    1.0\n",
      "31    1.0\n",
      "32    1.0\n",
      "33    1.0\n",
      "34    1.0\n",
      "35    1.0\n",
      "36    1.0\n",
      "37    1.0\n",
      "38    1.0\n",
      "39    1.0\n",
      "Name: yakıt, dtype: float64\n"
     ]
    }
   ],
   "source": [
    "print(bmw_df[\"yakıt\"])"
   ]
  },
  {
   "cell_type": "code",
   "execution_count": 11,
   "id": "4f70fba7",
   "metadata": {},
   "outputs": [],
   "source": [
    "from sklearn import preprocessing\n",
    "px = preprocessing.MinMaxScaler()\n",
    "py = preprocessing.MinMaxScaler()"
   ]
  },
  {
   "cell_type": "code",
   "execution_count": 12,
   "id": "f533ed5a",
   "metadata": {},
   "outputs": [
    {
     "name": "stdout",
     "output_type": "stream",
     "text": [
      "[[0.57142857 0.2        0.70833333 0.38275862 0.        ]\n",
      " [0.64285714 0.2        0.70833333 0.1137931  0.        ]\n",
      " [0.64285714 0.2        0.70833333 0.49310345 0.        ]\n",
      " [0.42857143 1.         1.         0.86896552 0.        ]\n",
      " [0.71428571 0.2        0.70833333 0.24827586 0.        ]\n",
      " [0.64285714 1.         1.         0.55172414 0.        ]\n",
      " [0.5        0.2        0.         0.40344828 0.        ]\n",
      " [0.71428571 0.2        0.70833333 0.48965517 0.        ]\n",
      " [0.5        0.2        0.70833333 0.54137931 0.        ]\n",
      " [0.57142857 0.2        0.         0.57586207 0.        ]\n",
      " [0.5        1.         1.         0.52413793 0.        ]\n",
      " [0.78571429 0.6        0.29166667 0.4137931  0.        ]\n",
      " [0.64285714 0.2        0.         0.22413793 0.        ]\n",
      " [0.64285714 0.         0.         0.43103448 0.        ]\n",
      " [0.35714286 0.2        0.         0.5        0.        ]\n",
      " [0.28571429 1.         1.         1.         0.        ]\n",
      " [0.28571429 0.2        0.         0.54482759 0.        ]\n",
      " [0.5        0.2        0.70833333 0.42758621 0.        ]\n",
      " [0.5        1.         1.         0.66206897 0.        ]\n",
      " [0.         1.         1.         0.85172414 0.        ]\n",
      " [0.35714286 0.2        0.         0.61034483 0.        ]\n",
      " [0.57142857 1.         1.         0.4862069  0.        ]\n",
      " [0.         0.2        0.         0.81724138 0.        ]\n",
      " [0.78571429 0.6        0.29166667 0.37586207 0.        ]\n",
      " [1.         0.2        0.70833333 0.         0.        ]\n",
      " [0.64285714 0.2        0.70833333 0.3        0.        ]\n",
      " [0.64285714 0.2        0.70833333 0.19310345 0.        ]\n",
      " [0.07142857 1.         1.         0.85862069 0.        ]\n",
      " [0.64285714 0.2        0.70833333 0.38275862 0.        ]\n",
      " [0.35714286 0.2        0.         0.58275862 0.        ]\n",
      " [0.21428571 1.         1.         0.78275862 0.        ]\n",
      " [0.14285714 0.2        0.70833333 0.81724138 0.        ]\n",
      " [0.         1.         1.         0.61034483 0.        ]\n",
      " [0.5        1.         1.         0.19310345 0.        ]\n",
      " [0.5        0.2        0.         0.10344828 0.        ]\n",
      " [0.57142857 0.2        0.70833333 0.46206897 0.        ]\n",
      " [0.71428571 0.2        0.70833333 0.34137931 0.        ]\n",
      " [0.5        1.         1.         0.90344828 0.        ]\n",
      " [0.71428571 0.2        0.70833333 0.30689655 0.        ]\n",
      " [0.28571429 1.         1.         0.60689655 0.        ]]\n"
     ]
    }
   ],
   "source": [
    "scaled_x = px.fit_transform(bmw_df.drop(\"fiyat\", axis=\"columns\"))\n",
    "print(scaled_x)\n"
   ]
  },
  {
   "cell_type": "code",
   "execution_count": 13,
   "id": "e6706bbe",
   "metadata": {},
   "outputs": [
    {
     "name": "stdout",
     "output_type": "stream",
     "text": [
      "[[0.43131462]\n",
      " [0.53471196]\n",
      " [0.34564254]\n",
      " [0.183161  ]\n",
      " [0.44608567]\n",
      " [0.23042836]\n",
      " [0.24667651]\n",
      " [0.41654357]\n",
      " [0.2422452 ]\n",
      " [0.22008863]\n",
      " [0.24963072]\n",
      " [0.43870015]\n",
      " [0.31314623]\n",
      " [0.36779911]\n",
      " [0.07976366]\n",
      " [0.03249631]\n",
      " [0.02511078]\n",
      " [0.29985229]\n",
      " [0.26144756]\n",
      " [0.05908419]\n",
      " [0.0915805 ]\n",
      " [0.34268833]\n",
      " [0.        ]\n",
      " [0.49039882]\n",
      " [1.        ]\n",
      " [0.33530281]\n",
      " [0.37518464]\n",
      " [0.05169867]\n",
      " [0.28360414]\n",
      " [0.0620384 ]\n",
      " [0.04726736]\n",
      " [0.02363368]\n",
      " [0.02067947]\n",
      " [0.29837518]\n",
      " [0.25110783]\n",
      " [0.32053176]\n",
      " [0.49039882]\n",
      " [0.19054653]\n",
      " [0.46085672]\n",
      " [0.09896603]]\n"
     ]
    }
   ],
   "source": [
    "scaled_y = py.fit_transform(bmw_df[\"fiyat\"].values.reshape(bmw_df.shape[0],1))\n",
    "print(scaled_y)"
   ]
  },
  {
   "cell_type": "code",
   "execution_count": 14,
   "id": "b363525c",
   "metadata": {},
   "outputs": [],
   "source": [
    "def BGD(x_train, y_true, epochs, learning_rate =0.01):\n",
    "    number_of_features = x_train.shape[1] #5\n",
    "    w = np.ones(number_of_features) #[1 1 1 1 1]\n",
    "    b = 0\n",
    "    n_samples = x_train.shape[0] # 40\n",
    "    loss_list = []\n",
    "    epoch_list = []\n",
    "    for i in range(epochs):\n",
    "        y_pred = np.dot(w, x_train.T) + b\n",
    "        w_der = (len(w))*(1/n_samples)*(x_train.T.dot(y_pred - y_true)) # = -(len(w))*(1/n_samples)*(x_train.T.dot(y_true - y_pred))\n",
    "        b_der = (1/n_samples)*np.sum(y_pred - y_true) # = np.mean(y_pred - y_true)\n",
    "        \n",
    "        w = w - learning_rate*w_der\n",
    "        b = b - learning_rate*b_der\n",
    "\n",
    "        loss = np.mean(np.square(y_true-y_pred))\n",
    "\n",
    "        if i%10 == 0 :\n",
    "            loss_list.append(loss)\n",
    "            epoch_list.append(i)\n",
    "\n",
    "    return w, b, loss, loss_list, epoch_list"
   ]
  },
  {
   "cell_type": "code",
   "execution_count": 15,
   "id": "b68caf7f",
   "metadata": {},
   "outputs": [],
   "source": [
    "w, b, loss, loss_list, epoch_list = BGD(scaled_x, scaled_y.reshape(scaled_y.shape[0],), 500)"
   ]
  },
  {
   "cell_type": "code",
   "execution_count": 16,
   "id": "acd5a232",
   "metadata": {},
   "outputs": [
    {
     "name": "stdout",
     "output_type": "stream",
     "text": [
      "w : [ 0.79099994 -0.04892368  0.09697857  0.04695228  1.        ],\n",
      " b : -0.18596155972294137, \n",
      " loss: 0.007921937728683184\n"
     ]
    }
   ],
   "source": [
    "print(f\"w : {w},\\n b : {b}, \\n loss: {loss}\")"
   ]
  },
  {
   "cell_type": "code",
   "execution_count": 17,
   "id": "1b6ab00b",
   "metadata": {},
   "outputs": [
    {
     "data": {
      "text/plain": [
       "Text(0.5, 1.0, 'Epoch and Loss Comparison')"
      ]
     },
     "execution_count": 17,
     "metadata": {},
     "output_type": "execute_result"
    },
    {
     "data": {
      "image/png": "[encoded data removed]",
      "text/plain": [
       "<Figure size 432x288 with 1 Axes>"
      ]
     },
     "metadata": {
      "needs_background": "light"
     },
     "output_type": "display_data"
    }
   ],
   "source": [
    "import matplotlib.pyplot as plt\n",
    "plt.xlabel(\"epoch\")\n",
    "plt.ylabel(\"loss\")\n",
    "plt.plot(epoch_list, loss_list)\n",
    "plt.title(\"Epoch and Loss Comparison\")"
   ]
  },
  {
   "cell_type": "code",
   "execution_count": 33,
   "id": "e2797947",
   "metadata": {},
   "outputs": [],
   "source": [
    "def predict(yıl, motor, güc, km, yakıt, w, b):\n",
    "    #paket = paket_d(paket)\n",
    "    #vites = vites_d(vites)\n",
    "    new_yıl = yıl/np.max(bmw_df[\"yıl\"])\n",
    "    new_motor = motor/np.max(bmw_df[\"motor\"])\n",
    "    new_güc = güc/np.max(bmw_df[\"güc\"])\n",
    "    new_km = km/np.max(bmw_df[\"km\"])\n",
    "    new_yakıt = yakıt_d(yakıt)\n",
    "\n",
    "    scaled_price = w[0]*new_yıl + w[1]*new_motor + w[2]*new_güc + w[3]*new_km + w[4]*new_yakıt + b\n",
    "    predicted_price = scaled_price*np.max(bmw_df[\"fiyat\"])\n",
    "\n",
    "    print(f\"predicted price: {predicted_price}\")"
   ]
  },
  {
   "cell_type": "code",
   "execution_count": 34,
   "id": "36a95ba7",
   "metadata": {},
   "outputs": [
    {
     "name": "stdout",
     "output_type": "stream",
     "text": [
      "first prediction =\n",
      "predicted price: 1404.786177703017\n"
     ]
    }
   ],
   "source": [
    "print(\"first prediction =\")\n",
    "predict(2014, 1.6, 170, 124, \"benzin\", w, b) # predicted price: 0.6919062479926922"
   ]
  },
  {
   "cell_type": "code",
   "execution_count": 45,
   "id": "8e6e5e6f",
   "metadata": {},
   "outputs": [],
   "source": [
    "def new_predict(yıl,motor,güc,km,yakıt,w,b):\n",
    "    scaled_x = px.transform([[yıl,motor,güc,km,yakıt]])[0] # px = sklearn.preprocessing.MinMaxScaler()\n",
    "    scaled_price = scaled_x[0]*w[0] + scaled_x[1]*w[1] + scaled_x[2]*w[2] + scaled_x[3]*w[3] + scaled_x[4]*w[4] + b\n",
    "    return py.inverse_transform([[scaled_price]])[0][0]"
   ]
  },
  {
   "cell_type": "code",
   "execution_count": 48,
   "id": "47e6368c",
   "metadata": {},
   "outputs": [
    {
     "name": "stdout",
     "output_type": "stream",
     "text": [
      "second prediction =\n"
     ]
    },
    {
     "name": "stderr",
     "output_type": "stream",
     "text": [
      "C:\\Users\\Z510\\AppData\\Local\\Programs\\Python\\Python39\\lib\\site-packages\\sklearn\\base.py:445: UserWarning: X does not have valid feature names, but MinMaxScaler was fitted with feature names\n",
      "  warnings.warn(\n"
     ]
    },
    {
     "data": {
      "text/plain": [
       "612.491983579074"
      ]
     },
     "execution_count": 48,
     "metadata": {},
     "output_type": "execute_result"
    }
   ],
   "source": [
    "print(\"second prediction =\")\n",
    "new_predict(2020,1.6,170,13, 1, w, b)"
   ]
  }
 ],
 "metadata": {
  "kernelspec": {
   "display_name": "Python 3 (ipykernel)",
   "language": "python",
   "name": "python3"
  },
  "language_info": {
   "codemirror_mode": {
    "name": "ipython",
    "version": 3
   },
   "file_extension": ".py",
   "mimetype": "text/x-python",
   "name": "python",
   "nbconvert_exporter": "python",
   "pygments_lexer": "ipython3",
   "version": "3.9.7"
  }
 },
 "nbformat": 4,
 "nbformat_minor": 5
}
